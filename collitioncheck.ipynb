{
 "cells": [
  {
   "cell_type": "code",
   "execution_count": null,
   "id": "0",
   "metadata": {},
   "outputs": [],
   "source": [
    "from src.utils.collision_check import is_collision, _box_corners\n",
    "from src.models.agent import TrafficAgent\n",
    "from src.models.map_elements import Pose2D\n",
    "import numpy as np\n",
    "import plotly.graph_objects as go\n",
    "\n",
    "agent1 = TrafficAgent(pos=Pose2D(0,0,0))\n",
    "agent2 = TrafficAgent(pos=Pose2D(\n",
    "    np.random.uniform(-10,10),\n",
    "    np.random.uniform(-5,5),\n",
    "    np.random.uniform(-10,10),\n",
    "))\n",
    "\n",
    "status = is_collision(agent1=agent1,agent2=agent2,margin_l=0.5,margin_w=0.0)\n",
    "print(f\"status = {status}\")\n",
    "ag1 = _box_corners(agent1)\n",
    "ag2 = _box_corners(agent2)\n",
    "ag1 = np.vstack((ag1,ag1[0])).T\n",
    "ag2 = np.vstack((ag2,ag2[0])).T\n",
    "print(f\"ag1 = {ag1}\")\n",
    "print(f\"ag2 = {ag2}\")\n",
    "traces = []\n",
    "traces.append(go.Scatter(x=ag1[0],y=ag1[1],mode='lines',name=f\"agent1\",line=dict(color=\"red\" if status else \"green\")))\n",
    "traces.append(go.Scatter(x=ag2[0],y=ag2[1],mode='lines',name=f\"agent2\",line=dict(color=\"yellow\" if status else \"blue\")))\n",
    "\n",
    "\n",
    "fig = go.Figure(data=traces)\n",
    "fig.update_layout(\n",
    "        title=\"\",\n",
    "        xaxis_title=\"X\",\n",
    "        yaxis_title=\"Y\",\n",
    "        yaxis=dict(scaleanchor=\"x\", scaleratio=1),\n",
    "        width=700,\n",
    "        height=500,\n",
    ")\n",
    "fig.show()"
   ]
  }
 ],
 "metadata": {
  "kernelspec": {
   "display_name": "Python 3 (ipykernel)",
   "language": "python",
   "name": "python3"
  },
  "language_info": {
   "codemirror_mode": {
    "name": "ipython",
    "version": 3
   },
   "file_extension": ".py",
   "mimetype": "text/x-python",
   "name": "python",
   "nbconvert_exporter": "python",
   "pygments_lexer": "ipython3",
   "version": "3.12.4"
  }
 },
 "nbformat": 4,
 "nbformat_minor": 5
}
