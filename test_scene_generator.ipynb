{
 "cells": [
  {
   "cell_type": "code",
   "execution_count": null,
   "id": "68d99a86-a27e-4045-bc5f-59ad3fc8fda1",
   "metadata": {},
   "outputs": [
    {
     "name": "stdout",
     "output_type": "stream",
     "text": [
      "Plot Action Enabled: True\n"
     ]
    },
    {
     "ename": "AttributeError",
     "evalue": "legend",
     "output_type": "error",
     "traceback": [
      "\u001b[31m---------------------------------------------------------------------------\u001b[39m",
      "\u001b[31mAttributeError\u001b[39m                            Traceback (most recent call last)",
      "\u001b[36mCell\u001b[39m\u001b[36m \u001b[39m\u001b[32mIn[2]\u001b[39m\u001b[32m, line 22\u001b[39m\n\u001b[32m     20\u001b[39m current_position = (\u001b[32m0.0\u001b[39m, \u001b[32m0.0\u001b[39m)  \u001b[38;5;66;03m# 例如：x=100米, y=200米\u001b[39;00m\n\u001b[32m     21\u001b[39m sensing_range = \u001b[32m30.0\u001b[39m  \u001b[38;5;66;03m# 例如：50米感知半径\u001b[39;00m\n\u001b[32m---> \u001b[39m\u001b[32m22\u001b[39m scene_simulator = SceneSimulator(step=\u001b[32m0.1\u001b[39m, plot_step=\u001b[32m1\u001b[39m, window_size = (\u001b[32m1450\u001b[39m, \u001b[32m775\u001b[39m), mode=Mode.SYNC, map_file_path=file_path, yaml_path=yaml_path,data_path=\u001b[33m\"\u001b[39m\u001b[33m./data\u001b[39m\u001b[33m\"\u001b[39m, perception_range=sensing_range)\n\u001b[32m     24\u001b[39m \u001b[38;5;66;03m# 提取感知范围内的车道\u001b[39;00m\n\u001b[32m     25\u001b[39m scene_simulator.generate_traffic_agents(\u001b[32m10\u001b[39m)\n",
      "\u001b[36mFile \u001b[39m\u001b[32m~/yy_ws/dataset_generator/src/scene_simulation/scene_simulator.py:64\u001b[39m, in \u001b[36mSceneSimulator.__init__\u001b[39m\u001b[34m(self, window_size, mode, step, plot_step, map_file_path, yaml_path, data_path, perception_range)\u001b[39m\n\u001b[32m     62\u001b[39m \u001b[38;5;28mself\u001b[39m.data_recorder = DataRecorder(data_path)\n\u001b[32m     63\u001b[39m \u001b[38;5;66;03m# 创建并 show 视图\u001b[39;00m\n\u001b[32m---> \u001b[39m\u001b[32m64\u001b[39m \u001b[38;5;28mself\u001b[39m.view = SimView(\u001b[38;5;28mself\u001b[39m, size=window_size)\n\u001b[32m     65\u001b[39m \u001b[38;5;28mself\u001b[39m.view.show()\n\u001b[32m     66\u001b[39m logging.debug(\u001b[33m\"\u001b[39m\u001b[33msimulator init\u001b[39m\u001b[33m\"\u001b[39m)\n",
      "\u001b[36mFile \u001b[39m\u001b[32m~/yy_ws/dataset_generator/src/visualization/visualization.py:127\u001b[39m, in \u001b[36mSimView.__init__\u001b[39m\u001b[34m(self, sim, size, title)\u001b[39m\n\u001b[32m    124\u001b[39m \u001b[38;5;28mself\u001b[39m.style_idx = \u001b[32m0\u001b[39m  \u001b[38;5;66;03m# 线型循环索引\u001b[39;00m\n\u001b[32m    126\u001b[39m \u001b[38;5;66;03m# 启用图例交互\u001b[39;00m\n\u001b[32m--> \u001b[39m\u001b[32m127\u001b[39m \u001b[38;5;28mself\u001b[39m.data_plot_widget.legend.sigClicked.connect(\u001b[38;5;28mself\u001b[39m.handle_legend_click)\n\u001b[32m    129\u001b[39m \u001b[38;5;28mself\u001b[39m.dock_curve = QtWidgets.QDockWidget(\u001b[33m\"\u001b[39m\u001b[33m数据曲线\u001b[39m\u001b[33m\"\u001b[39m, \u001b[38;5;28mself\u001b[39m)\n\u001b[32m    130\u001b[39m \u001b[38;5;28mself\u001b[39m.dock_curve.setObjectName(\u001b[33m\"\u001b[39m\u001b[33m数据曲线\u001b[39m\u001b[33m\"\u001b[39m)\n",
      "\u001b[36mFile \u001b[39m\u001b[32m~/anaconda3/envs/dataset/lib/python3.11/site-packages/pyqtgraph/widgets/PlotWidget.py:85\u001b[39m, in \u001b[36mPlotWidget.__getattr__\u001b[39m\u001b[34m(self, attr)\u001b[39m\n\u001b[32m     83\u001b[39m     \u001b[38;5;28;01mif\u001b[39;00m \u001b[38;5;28mhasattr\u001b[39m(m, \u001b[33m'\u001b[39m\u001b[33m__call__\u001b[39m\u001b[33m'\u001b[39m):\n\u001b[32m     84\u001b[39m         \u001b[38;5;28;01mreturn\u001b[39;00m m\n\u001b[32m---> \u001b[39m\u001b[32m85\u001b[39m \u001b[38;5;28;01mraise\u001b[39;00m \u001b[38;5;167;01mAttributeError\u001b[39;00m(attr)\n",
      "\u001b[31mAttributeError\u001b[39m: legend"
     ]
    }
   ],
   "source": [
    "%gui qt\n",
    "import logging\n",
    "from src.scene_simulation.scene_simulator import SceneSimulator,Mode\n",
    "from pyqtgraph.Qt import QtWidgets\n",
    "import time\n",
    "# oxdr 数据\n",
    "# file_path = \"./road_map/parking1.xodr\"\n",
    "# file_path = \"./road_map/parking2.xodr\"\n",
    "# file_path = \"./road_map/parking3.xodr\"\n",
    "file_path = \"./road_map/Town10HD_Opt.xodr\"\n",
    "# yaml_path = \"./config/traffic_signals/parking1.yaml\"\n",
    "yaml_path = \"./config/traffic_signals/Town10HD_Opt.yaml\"\n",
    "\n",
    "logging.basicConfig(\n",
    "    level=logging.INFO,         # 默认只打印 info 及以上\n",
    "    format=\"%(asctime)s [%(levelname)s] %(message)s\"\n",
    ")\n",
    "\n",
    "# 设置当前位置与感知范围\n",
    "current_position = (0.0, 0.0)  # 例如：x=100米, y=200米\n",
    "sensing_range = 30.0  # 例如：50米感知半径\n",
    "scene_simulator = SceneSimulator(\n",
    "    step=0.1, plot_step=1, window_size = (1450, 775), \n",
    "    mode=Mode.SYNC, map_file_path=file_path, yaml_path=yaml_path,data_path=\"./data\", \n",
    "    perception_range=sensing_range\n",
    "    )\n",
    "\n",
    "# 提取感知范围内的车道\n",
    "scene_simulator.generate_traffic_agents(10)\n",
    "scene_simulator.init_ego_vehicle()\n",
    "\n",
    "for id, lane in scene_simulator.map_parser.lanes.items():\n",
    "    logging.debug(f\"lane unicode:{lane.unicode}\")\n",
    "\n"
   ]
  },
  {
   "cell_type": "code",
   "execution_count": null,
   "id": "0fc5dfda-f8af-41b5-8af1-9b85f0d8a4c5",
   "metadata": {},
   "outputs": [],
   "source": [
    "scene_simulator.start()\n",
    "for _ in range(300):\n",
    "    scene_simulator.step_once()\n",
    "    QtWidgets.QApplication.processEvents()\n",
    "    scene_simulator.data_recorder.new_line()\n",
    "    time.sleep(0.1)\n",
    "scene_simulator.data_recorder.save()"
   ]
  }
 ],
 "metadata": {
  "kernelspec": {
   "display_name": "Python 3 (ipykernel)",
   "language": "python",
   "name": "python3"
  },
  "language_info": {
   "codemirror_mode": {
    "name": "ipython",
    "version": 3
   },
   "file_extension": ".py",
   "mimetype": "text/x-python",
   "name": "python",
   "nbconvert_exporter": "python",
   "pygments_lexer": "ipython3",
   "version": "3.11.5"
  }
 },
 "nbformat": 4,
 "nbformat_minor": 5
}
