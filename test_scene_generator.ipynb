{
 "cells": [
  {
   "cell_type": "code",
   "execution_count": 1,
   "id": "68d99a86-a27e-4045-bc5f-59ad3fc8fda1",
   "metadata": {},
   "outputs": [],
   "source": [
    "%gui qt\n",
    "import logging\n",
    "from src.scene_simulation.scene_simulator import SceneSimulator,Mode\n",
    "from pyqtgraph.Qt import QtWidgets\n",
    "import time\n",
    "# oxdr 数据\n",
    "# file_path = \"./road_map/parking1.xodr\"\n",
    "# file_path = \"./road_map/parking2.xodr\"\n",
    "# file_path = \"./road_map/parking3.xodr\"\n",
    "file_path = \"./road_map/Town10HD_Opt.xodr\"\n",
    "# yaml_path = \"./config/traffic_signals/parking1.yaml\"\n",
    "yaml_path = \"./config/traffic_signals/Town10HD_Opt.yaml\"\n",
    "\n",
    "logging.basicConfig(\n",
    "    # level=logging.DEBUG,         # 默认只打印 info 及以上\n",
    "    level=logging.INFO,         # 默认只打印 info 及以上\n",
    "    format=\"%(asctime)s [%(levelname)s] %(message)s\"\n",
    ")\n",
    "\n",
    "# 设置当前位置与感知范围\n",
    "current_position = (0.0, 0.0)  # 例如：x=100米, y=200米\n",
    "sensing_range = 30.0  # 例如：50米感知半径\n",
    "scene_simulator = SceneSimulator(\n",
    "    step=0.1, plot_step=1, window_size = (1450, 775), \n",
    "    mode=Mode.SYNC, map_file_path=file_path, yaml_path=yaml_path,data_path=\"./data\", \n",
    "    perception_range=sensing_range\n",
    "    )\n",
    "scene_simulator.data_recorder.work_on = True\n",
    "# 提取感知范围内的车道\n",
    "scene_simulator.generate_traffic_agents(30)\n",
    "scene_simulator.init_ego_vehicle()\n",
    "\n",
    "for id, lane in scene_simulator.map_parser.lanes.items():\n",
    "    logging.debug(f\"lane unicode:{lane.unicode}\")\n",
    "\n"
   ]
  },
  {
   "cell_type": "code",
   "execution_count": 2,
   "id": "0fc5dfda-f8af-41b5-8af1-9b85f0d8a4c5",
   "metadata": {},
   "outputs": [
    {
     "name": "stderr",
     "output_type": "stream",
     "text": [
      "2025-05-08 13:57:37,982 [INFO] 数据成功保存到 ./data/20250508135735.xlsx\n"
     ]
    }
   ],
   "source": [
    "scene_simulator.start()\n",
    "for _ in range(600):\n",
    "    scene_simulator.step_once()\n",
    "    QtWidgets.QApplication.processEvents()\n",
    "    scene_simulator.data_recorder.new_line()\n",
    "    time.sleep(0.1)\n",
    "scene_simulator.data_recorder.save()"
   ]
  }
 ],
 "metadata": {
  "kernelspec": {
   "display_name": "Python 3 (ipykernel)",
   "language": "python",
   "name": "python3"
  },
  "language_info": {
   "codemirror_mode": {
    "name": "ipython",
    "version": 3
   },
   "file_extension": ".py",
   "mimetype": "text/x-python",
   "name": "python",
   "nbconvert_exporter": "python",
   "pygments_lexer": "ipython3",
   "version": "3.11.5"
  }
 },
 "nbformat": 4,
 "nbformat_minor": 5
}
