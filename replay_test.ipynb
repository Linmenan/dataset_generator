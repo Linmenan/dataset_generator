{
 "cells": [
  {
   "cell_type": "code",
   "execution_count": null,
   "id": "0",
   "metadata": {},
   "outputs": [
    {
     "name": "stdout",
     "output_type": "stream",
     "text": [
      "\n",
      "可选数据文件：\n",
      "[1]  20250519213940.xlsx\n",
      "[2]  20250519212405.xlsx\n"
     ]
    },
    {
     "name": "stdin",
     "output_type": "stream",
     "text": [
      "请输入序号或文件名（输入 q 退出）： 1\n"
     ]
    },
    {
     "name": "stderr",
     "output_type": "stream",
     "text": [
      "2025-05-19 21:42:04,050 [INFO] 成功读取 ./data/20250519213940.xlsx\n",
      "2025-05-19 21:42:07,891 [INFO] Replay 模式载入成功：51 个智能体，300 帧\n"
     ]
    }
   ],
   "source": [
    "%gui qt\n",
    "import logging\n",
    "from src.scene_simulation.scene_simulator import SceneSimulator,Mode\n",
    "from pyqtgraph.Qt import QtWidgets\n",
    "import time\n",
    "# oxdr 数据\n",
    "# file_path = \"./road_map/parking1.xodr\"\n",
    "# yaml_path = \"./config/traffic_signals/parking1.yaml\"\n",
    "# file_path = \"./road_map/parking2.xodr\"\n",
    "# yaml_path = \"./config/traffic_signals/parking2.yaml\"\n",
    "# file_path = \"./road_map/parking3.xodr\"\n",
    "# yaml_path = \"./config/traffic_signals/parking3.yaml\"\n",
    "file_path = \"./road_map/Town10HD_Opt.xodr\"\n",
    "yaml_path = \"./config/traffic_signals/Town10HD_Opt.yaml\"\n",
    "\n",
    "logging.basicConfig(\n",
    "    # level=logging.DEBUG,         # 默认只打印 info 及以上\n",
    "    level=logging.INFO,         # 默认只打印 info 及以上\n",
    "    format=\"%(asctime)s [%(levelname)s] %(message)s\"\n",
    ")\n",
    "\n",
    "# 设置当前位置与感知范围\n",
    "current_position = (0.0, 0.0)  # 例如：x=100米, y=200米\n",
    "sensing_range = 30.0  # 例如：50米感知半径\n",
    "scene_simulator = SceneSimulator(\n",
    "    step=0.1,plot_on=True, plot_step=1, window_size = (1450, 775), \n",
    "    mode=Mode.REPLAY, map_file_path=file_path, yaml_path=yaml_path,data_path=\"./data\", \n",
    "    perception_range=sensing_range\n",
    "    )\n",
    "scene_simulator.data_recorder.work_on = False\n",
    "scene_simulator.start() "
   ]
  },
  {
   "cell_type": "code",
   "execution_count": null,
   "id": "1",
   "metadata": {},
   "outputs": [],
   "source": []
  }
 ],
 "metadata": {
  "kernelspec": {
   "display_name": "Python 3 (ipykernel)",
   "language": "python",
   "name": "python3"
  },
  "language_info": {
   "codemirror_mode": {
    "name": "ipython",
    "version": 3
   },
   "file_extension": ".py",
   "mimetype": "text/x-python",
   "name": "python",
   "nbconvert_exporter": "python",
   "pygments_lexer": "ipython3",
   "version": "3.12.4"
  }
 },
 "nbformat": 4,
 "nbformat_minor": 5
}
