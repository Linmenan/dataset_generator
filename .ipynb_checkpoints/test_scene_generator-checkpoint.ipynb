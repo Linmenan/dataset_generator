{
 "cells": [
  {
   "cell_type": "code",
   "execution_count": 1,
   "id": "68d99a86-a27e-4045-bc5f-59ad3fc8fda1",
   "metadata": {},
   "outputs": [
    {
     "name": "stdout",
     "output_type": "stream",
     "text": [
      "simulator init\n"
     ]
    },
    {
     "ename": "KeyboardInterrupt",
     "evalue": "",
     "output_type": "error",
     "traceback": [
      "\u001b[0;31m---------------------------------------------------------------------------\u001b[0m",
      "\u001b[0;31mKeyboardInterrupt\u001b[0m                         Traceback (most recent call last)",
      "Cell \u001b[0;32mIn[1], line 27\u001b[0m\n\u001b[1;32m     25\u001b[0m scene_simulator\u001b[38;5;241m.\u001b[39mstep_once()\n\u001b[1;32m     26\u001b[0m QtWidgets\u001b[38;5;241m.\u001b[39mQApplication\u001b[38;5;241m.\u001b[39mprocessEvents()\n\u001b[0;32m---> 27\u001b[0m \u001b[43mtime\u001b[49m\u001b[38;5;241;43m.\u001b[39;49m\u001b[43msleep\u001b[49m\u001b[43m(\u001b[49m\u001b[38;5;241;43m0.1\u001b[39;49m\u001b[43m)\u001b[49m\n",
      "\u001b[0;31mKeyboardInterrupt\u001b[0m: "
     ]
    }
   ],
   "source": [
    "%gui qt\n",
    "\n",
    "from src.scene_simulation.scene_simulator import SceneSimulator,Mode\n",
    "from pyqtgraph.Qt import QtWidgets\n",
    "import time\n",
    "# oxdr 数据\n",
    "# file_path = \"./road_map/parking1.xodr\"\n",
    "# file_path = \"./road_map/parking2.xodr\"\n",
    "# file_path = \"./road_map/parking3.xodr\"\n",
    "file_path = \"./road_map/Town10HD_Opt.xodr\"\n",
    "yaml_path = \"./config/traffic_signals/Town10HD_Opt.yaml\"\n",
    "\n",
    "# 设置当前位置与感知范围\n",
    "current_position = (0.0, 0.0)  # 例如：x=100米, y=200米\n",
    "sensing_range = 30.0  # 例如：50米感知半径\n",
    "scene_simulator = SceneSimulator(step=0.1, plot_step=1, mode=Mode.SYNC,map_file_path = file_path, yaml_path=yaml_path, perception_range = sensing_range)\n",
    "\n",
    "# 提取感知范围内的车道\n",
    "scene_simulator.generate_traffic_agents(10)\n",
    "scene_simulator.init_ego_vehicle()\n",
    "\n",
    "\n",
    "scene_simulator.start()\n",
    "for _ in range(1000):\n",
    "    scene_simulator.step_once()\n",
    "    QtWidgets.QApplication.processEvents()\n",
    "    time.sleep(0.1)\n",
    "\n"
   ]
  },
  {
   "cell_type": "code",
   "execution_count": null,
   "id": "a23b8c68-d5c7-42c0-b8b1-5ade238b1e8d",
   "metadata": {},
   "outputs": [],
   "source": []
  },
  {
   "cell_type": "code",
   "execution_count": null,
   "id": "501b299c-5680-4aea-a77f-072e5ae309ed",
   "metadata": {},
   "outputs": [],
   "source": []
  }
 ],
 "metadata": {
  "kernelspec": {
   "display_name": "Python 3 (ipykernel)",
   "language": "python",
   "name": "python3"
  },
  "language_info": {
   "codemirror_mode": {
    "name": "ipython",
    "version": 3
   },
   "file_extension": ".py",
   "mimetype": "text/x-python",
   "name": "python",
   "nbconvert_exporter": "python",
   "pygments_lexer": "ipython3",
   "version": "3.9.21"
  }
 },
 "nbformat": 4,
 "nbformat_minor": 5
}
