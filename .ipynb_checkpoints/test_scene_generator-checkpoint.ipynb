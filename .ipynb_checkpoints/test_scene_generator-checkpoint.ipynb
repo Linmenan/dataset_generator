{
 "cells": [
  {
   "cell_type": "code",
   "execution_count": null,
   "id": "68d99a86-a27e-4045-bc5f-59ad3fc8fda1",
   "metadata": {},
   "outputs": [],
   "source": [
    "%gui qt\n",
    "\n",
    "from src.scene_simulation.scene_simulator import SceneSimulator,Mode\n",
    "from pyqtgraph.Qt import QtWidgets\n",
    "import time\n",
    "# oxdr 数据\n",
    "# file_path = \"./road_map/parking1.xodr\"\n",
    "# file_path = \"./road_map/parking2.xodr\"\n",
    "# file_path = \"./road_map/parking3.xodr\"\n",
    "file_path = \"./road_map/Town10HD_Opt.xodr\"\n",
    "# yaml_path = \"./config/traffic_signals/parking1.yaml\"\n",
    "yaml_path = \"./config/traffic_signals/Town10HD_Opt.yaml\"\n",
    "\n",
    "# 设置当前位置与感知范围\n",
    "current_position = (0.0, 0.0)  # 例如：x=100米, y=200米\n",
    "sensing_range = 30.0  # 例如：50米感知半径\n",
    "scene_simulator = SceneSimulator(step=0.1, plot_step=1, mode=Mode.SYNC, map_file_path=file_path, yaml_path=yaml_path, perception_range=sensing_range)\n",
    "\n",
    "# 提取感知范围内的车道\n",
    "scene_simulator.generate_traffic_agents(10)\n",
    "scene_simulator.init_ego_vehicle()\n",
    "\n",
    "\n",
    "scene_simulator.start()\n",
    "for _ in range(1000):\n",
    "    scene_simulator.step_once()\n",
    "    QtWidgets.QApplication.processEvents()\n",
    "    \n",
    "    time.sleep(0.1)\n",
    "    if scene_simulator.need_stop:\n",
    "        # input(\"按下回车键继续...\")\n",
    "        pass\n"
   ]
  }
 ],
 "metadata": {
  "kernelspec": {
   "display_name": "Python 3 (ipykernel)",
   "language": "python",
   "name": "python3"
  },
  "language_info": {
   "codemirror_mode": {
    "name": "ipython",
    "version": 3
   },
   "file_extension": ".py",
   "mimetype": "text/x-python",
   "name": "python",
   "nbconvert_exporter": "python",
   "pygments_lexer": "ipython3",
   "version": "3.11.5"
  }
 },
 "nbformat": 4,
 "nbformat_minor": 5
}
